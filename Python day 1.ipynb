{
 "cells": [
  {
   "cell_type": "code",
   "execution_count": 1,
   "id": "cdecf82a",
   "metadata": {},
   "outputs": [
    {
     "name": "stdout",
     "output_type": "stream",
     "text": [
      "I am the best\n"
     ]
    }
   ],
   "source": [
    "print(\"I am the best\")"
   ]
  },
  {
   "cell_type": "markdown",
   "id": "d9c9886f",
   "metadata": {},
   "source": [
    "# IDE-> Integrated development envirnoment"
   ]
  },
  {
   "cell_type": "code",
   "execution_count": 2,
   "id": "2d900b2a",
   "metadata": {},
   "outputs": [
    {
     "name": "stdout",
     "output_type": "stream",
     "text": [
      "Hello\n"
     ]
    }
   ],
   "source": [
    "print(\"Hello\")"
   ]
  },
  {
   "cell_type": "code",
   "execution_count": 1,
   "id": "886ec887",
   "metadata": {},
   "outputs": [
    {
     "name": "stdout",
     "output_type": "stream",
     "text": [
      "10\n"
     ]
    }
   ],
   "source": [
    "a=10\n",
    "print(a)"
   ]
  },
  {
   "cell_type": "code",
   "execution_count": 2,
   "id": "3bf38299",
   "metadata": {},
   "outputs": [
    {
     "data": {
      "text/plain": [
       "2"
      ]
     },
     "execution_count": 2,
     "metadata": {},
     "output_type": "execute_result"
    }
   ],
   "source": [
    "1+1"
   ]
  },
  {
   "cell_type": "code",
   "execution_count": 6,
   "id": "8c17c20c",
   "metadata": {},
   "outputs": [
    {
     "ename": "NameError",
     "evalue": "name 'b' is not defined",
     "output_type": "error",
     "traceback": [
      "\u001b[0;31m---------------------------------------------------------------------------\u001b[0m",
      "\u001b[0;31mNameError\u001b[0m                                 Traceback (most recent call last)",
      "Cell \u001b[0;32mIn[6], line 4\u001b[0m\n\u001b[1;32m      2\u001b[0m a\u001b[38;5;241m=\u001b[39m\u001b[38;5;241m20\u001b[39m\n\u001b[1;32m      3\u001b[0m \u001b[38;5;66;03m#b=40\u001b[39;00m\n\u001b[0;32m----> 4\u001b[0m \u001b[38;5;28mprint\u001b[39m(a, b)\n",
      "\u001b[0;31mNameError\u001b[0m: name 'b' is not defined"
     ]
    }
   ],
   "source": [
    "## this is a comment \n",
    "a=20\n",
    "#b=40\n",
    "print(a, b) # ->error since b is commented\n",
    "## or # single hash can be used as comments!!"
   ]
  },
  {
   "cell_type": "code",
   "execution_count": 9,
   "id": "5110a6e5",
   "metadata": {},
   "outputs": [
    {
     "name": "stdout",
     "output_type": "stream",
     "text": [
      "Hello\n"
     ]
    }
   ],
   "source": [
    "# for multi line comments i will use triple quotes \n",
    "\n",
    "\"\"\"\n",
    "hello\n",
    "how \n",
    "are \n",
    "you\n",
    "this is a \n",
    "multi \n",
    "line \n",
    "comments!!!\n",
    "\"\"\"\n",
    "\n",
    "print(\"Hello\")"
   ]
  },
  {
   "cell_type": "markdown",
   "id": "7740da25",
   "metadata": {},
   "source": [
    "# Hello"
   ]
  },
  {
   "cell_type": "markdown",
   "id": "6296c2a8",
   "metadata": {},
   "source": [
    "## Hello"
   ]
  },
  {
   "cell_type": "markdown",
   "id": "0c5c9835",
   "metadata": {},
   "source": [
    "### Hello"
   ]
  },
  {
   "cell_type": "markdown",
   "id": "156a4ee9",
   "metadata": {},
   "source": [
    "#### Hello"
   ]
  },
  {
   "cell_type": "markdown",
   "id": "9c7d31a4",
   "metadata": {},
   "source": [
    "##### hello"
   ]
  },
  {
   "cell_type": "raw",
   "id": "1ac679b3",
   "metadata": {},
   "source": [
    "print(\"Hello\") -> RAW NBConvert"
   ]
  },
  {
   "cell_type": "markdown",
   "id": "57d264e7",
   "metadata": {},
   "source": [
    "# Press esc and press A button to create a new cell -> short cut"
   ]
  },
  {
   "cell_type": "markdown",
   "id": "6a92fd5b",
   "metadata": {},
   "source": [
    "## Numbers"
   ]
  },
  {
   "cell_type": "code",
   "execution_count": 10,
   "id": "9eb28897",
   "metadata": {},
   "outputs": [
    {
     "data": {
      "text/plain": [
       "4"
      ]
     },
     "execution_count": 10,
     "metadata": {},
     "output_type": "execute_result"
    }
   ],
   "source": [
    "1+3"
   ]
  },
  {
   "cell_type": "code",
   "execution_count": 11,
   "id": "5639aae9",
   "metadata": {},
   "outputs": [
    {
     "name": "stdout",
     "output_type": "stream",
     "text": [
      "11\n"
     ]
    }
   ],
   "source": [
    "print(4+7)"
   ]
  },
  {
   "cell_type": "code",
   "execution_count": 13,
   "id": "87791dce",
   "metadata": {},
   "outputs": [
    {
     "name": "stdout",
     "output_type": "stream",
     "text": [
      "Hello Wolrd my name is Gautham \n",
      "I am a Phd student\n"
     ]
    }
   ],
   "source": [
    "print(\"Hello Wolrd my name is Gautham \\nI am a Phd student\")\n",
    "# \\n -> new line"
   ]
  },
  {
   "cell_type": "markdown",
   "id": "6123355f",
   "metadata": {},
   "source": [
    "## Variable Assignments"
   ]
  },
  {
   "cell_type": "code",
   "execution_count": 14,
   "id": "1d5962da",
   "metadata": {},
   "outputs": [
    {
     "name": "stdout",
     "output_type": "stream",
     "text": [
      "Gautham FIU\n"
     ]
    }
   ],
   "source": [
    "name=\"Gautham\" # string can be represented using \"\" or ''\n",
    "company=\"FIU\"\n",
    "print(name, company)"
   ]
  },
  {
   "cell_type": "code",
   "execution_count": 16,
   "id": "a1ca1461",
   "metadata": {},
   "outputs": [
    {
     "name": "stdout",
     "output_type": "stream",
     "text": [
      "Bala FIU\n"
     ]
    }
   ],
   "source": [
    "name=\"Bala\"\n",
    "print(name, company) # name will be overwritten"
   ]
  },
  {
   "cell_type": "code",
   "execution_count": 19,
   "id": "764e1baf",
   "metadata": {},
   "outputs": [
    {
     "name": "stdout",
     "output_type": "stream",
     "text": [
      "<class 'str'>\n",
      "<class 'int'>\n"
     ]
    }
   ],
   "source": [
    "print(type(name))\n",
    "age=87\n",
    "print(type(age))"
   ]
  },
  {
   "cell_type": "code",
   "execution_count": 20,
   "id": "19eaac89",
   "metadata": {},
   "outputs": [
    {
     "name": "stdout",
     "output_type": "stream",
     "text": [
      "<class 'float'>\n"
     ]
    }
   ],
   "source": [
    "decimal=56.45\n",
    "print(type(decimal))\n",
    "# type will provide data type of the variables"
   ]
  },
  {
   "cell_type": "code",
   "execution_count": 21,
   "id": "98ccaa36",
   "metadata": {},
   "outputs": [
    {
     "name": "stdout",
     "output_type": "stream",
     "text": [
      "<class 'complex'>\n"
     ]
    }
   ],
   "source": [
    "complexs = 3+7j\n",
    "print(type(complexs))"
   ]
  },
  {
   "cell_type": "code",
   "execution_count": 23,
   "id": "9e33eb2a",
   "metadata": {},
   "outputs": [
    {
     "data": {
      "text/plain": [
       "'\\nint float len complex bool str from return continue try else if for \\n'"
      ]
     },
     "execution_count": 23,
     "metadata": {},
     "output_type": "execute_result"
    }
   ],
   "source": [
    "# Reserved kewords \n",
    "'''\n",
    "int float len complex bool str from return continue try else if for \n",
    "'''"
   ]
  },
  {
   "cell_type": "code",
   "execution_count": 24,
   "id": "228679f0",
   "metadata": {},
   "outputs": [
    {
     "name": "stdout",
     "output_type": "stream",
     "text": [
      "True\n"
     ]
    }
   ],
   "source": [
    "# boolean -> True , False\n",
    "print(True)"
   ]
  },
  {
   "cell_type": "code",
   "execution_count": 27,
   "id": "309251e7",
   "metadata": {},
   "outputs": [
    {
     "name": "stdout",
     "output_type": "stream",
     "text": [
      "False\n",
      "False\n"
     ]
    }
   ],
   "source": [
    "# Logical Operataions and,not \n",
    "print(not True)\n",
    "print(bool(0))\n"
   ]
  },
  {
   "cell_type": "code",
   "execution_count": 28,
   "id": "6d8fb1a2",
   "metadata": {},
   "outputs": [
    {
     "name": "stdout",
     "output_type": "stream",
     "text": [
      "True\n"
     ]
    }
   ],
   "source": [
    "a=1\n",
    "if bool(a) == True:\n",
    "    print(\"True\")"
   ]
  },
  {
   "cell_type": "code",
   "execution_count": 29,
   "id": "2f52b692",
   "metadata": {},
   "outputs": [
    {
     "data": {
      "text/plain": [
       "'45'"
      ]
     },
     "execution_count": 29,
     "metadata": {},
     "output_type": "execute_result"
    }
   ],
   "source": [
    "str(45) # shift + tab will give the information ,  will convert 45 number into string\n",
    "# typecasting -> converting from one datatype to another\n"
   ]
  },
  {
   "cell_type": "code",
   "execution_count": 31,
   "id": "84da0dec",
   "metadata": {},
   "outputs": [
    {
     "data": {
      "text/plain": [
       "23"
      ]
     },
     "execution_count": 31,
     "metadata": {},
     "output_type": "execute_result"
    }
   ],
   "source": [
    "int('23') # convert string to number"
   ]
  },
  {
   "cell_type": "markdown",
   "id": "c8c2ac38",
   "metadata": {},
   "source": [
    "# Dynamic Typing"
   ]
  },
  {
   "cell_type": "code",
   "execution_count": 2,
   "id": "3590aed9",
   "metadata": {},
   "outputs": [
    {
     "name": "stdout",
     "output_type": "stream",
     "text": [
      "12\n",
      "var\n"
     ]
    }
   ],
   "source": [
    "a=12 # compiler on run time will understand the datetype and allocate the space \n",
    "print(a)\n",
    "str1=\"gautham\"\n",
    "a=\"var\"\n",
    "print(a)"
   ]
  },
  {
   "cell_type": "code",
   "execution_count": 3,
   "id": "6606649b",
   "metadata": {},
   "outputs": [
    {
     "name": "stdout",
     "output_type": "stream",
     "text": [
      "1\n"
     ]
    }
   ],
   "source": [
    "print(int(1.76575))"
   ]
  },
  {
   "cell_type": "markdown",
   "id": "e078c0eb",
   "metadata": {},
   "source": [
    "# Cocatenation between different types"
   ]
  },
  {
   "cell_type": "code",
   "execution_count": 4,
   "id": "5472205d",
   "metadata": {},
   "outputs": [
    {
     "data": {
      "text/plain": [
       "'11'"
      ]
     },
     "execution_count": 4,
     "metadata": {},
     "output_type": "execute_result"
    }
   ],
   "source": [
    "\"1\"+\"1\" # => 11"
   ]
  },
  {
   "cell_type": "code",
   "execution_count": 6,
   "id": "f920bfb9",
   "metadata": {},
   "outputs": [
    {
     "ename": "TypeError",
     "evalue": "unsupported operand type(s) for +: 'int' and 'str'",
     "output_type": "error",
     "traceback": [
      "\u001b[0;31m---------------------------------------------------------------------------\u001b[0m",
      "\u001b[0;31mTypeError\u001b[0m                                 Traceback (most recent call last)",
      "Cell \u001b[0;32mIn[6], line 1\u001b[0m\n\u001b[0;32m----> 1\u001b[0m \u001b[38;5;28mint\u001b[39m(\u001b[38;5;124m\"\u001b[39m\u001b[38;5;124m1\u001b[39m\u001b[38;5;124m\"\u001b[39m)\u001b[38;5;241m+\u001b[39m\u001b[38;5;124m\"\u001b[39m\u001b[38;5;124m1\u001b[39m\u001b[38;5;124m\"\u001b[39m\n",
      "\u001b[0;31mTypeError\u001b[0m: unsupported operand type(s) for +: 'int' and 'str'"
     ]
    }
   ],
   "source": [
    "int(\"1\")+\"1\" #-> error  since we cannot add 1 and string 1."
   ]
  },
  {
   "cell_type": "code",
   "execution_count": 7,
   "id": "d745af09",
   "metadata": {},
   "outputs": [
    {
     "data": {
      "text/plain": [
       "'1111111111111111111111111111111111111111111111111111111111111111111111111111111111111111111111111111'"
      ]
     },
     "execution_count": 7,
     "metadata": {},
     "output_type": "execute_result"
    }
   ],
   "source": [
    "\"1\"*100 # -> 1 will be repeated 100 times"
   ]
  },
  {
   "cell_type": "code",
   "execution_count": 10,
   "id": "f496f8db",
   "metadata": {},
   "outputs": [
    {
     "name": "stdout",
     "output_type": "stream",
     "text": [
      "<class 'int'>\n",
      "<class 'str'>\n",
      "24 567\n"
     ]
    }
   ],
   "source": [
    "# type casting \n",
    "a=int('24')\n",
    "print(type(a))\n",
    "b=str(567)\n",
    "print(type(b))\n",
    "print(a,b)"
   ]
  },
  {
   "cell_type": "code",
   "execution_count": 11,
   "id": "4133cf0e",
   "metadata": {},
   "outputs": [
    {
     "name": "stdout",
     "output_type": "stream",
     "text": [
      "hello world\n"
     ]
    }
   ],
   "source": [
    "print(\"hello world\")"
   ]
  },
  {
   "cell_type": "code",
   "execution_count": 12,
   "id": "ef209169",
   "metadata": {},
   "outputs": [
    {
     "name": "stdout",
     "output_type": "stream",
     "text": [
      "123\n"
     ]
    }
   ],
   "source": [
    "print(123)"
   ]
  },
  {
   "cell_type": "code",
   "execution_count": 14,
   "id": "d4da62e2",
   "metadata": {},
   "outputs": [
    {
     "name": "stdout",
     "output_type": "stream",
     "text": [
      "my age is : 32\n"
     ]
    }
   ],
   "source": [
    "age=32\n",
    "print(\"my age is :\", age)"
   ]
  },
  {
   "cell_type": "code",
   "execution_count": 16,
   "id": "8c4befdd",
   "metadata": {},
   "outputs": [
    {
     "name": "stdout",
     "output_type": "stream",
     "text": [
      "My age is : 32 \n"
     ]
    }
   ],
   "source": [
    "print(f\"My age is : {age} \") # f is used for formatting called as fstring"
   ]
  },
  {
   "cell_type": "code",
   "execution_count": 17,
   "id": "95f42843",
   "metadata": {},
   "outputs": [
    {
     "name": "stdout",
     "output_type": "stream",
     "text": [
      "my name is sunny and age is 36\n"
     ]
    }
   ],
   "source": [
    "##format()\n",
    "\n",
    "name =\"sunny\"\n",
    "age=36\n",
    "print(\"my name is {} and age is {}\".format(name,age))"
   ]
  },
  {
   "cell_type": "code",
   "execution_count": 19,
   "id": "8b6d4af6",
   "metadata": {},
   "outputs": [
    {
     "name": "stdout",
     "output_type": "stream",
     "text": [
      "my name is sunny and age is 36 \n"
     ]
    }
   ],
   "source": [
    "print(\"my name is {firstname} and age is {firstage} \".format(firstname=name,firstage=age)) # placeholder -> firstname and firstage"
   ]
  },
  {
   "cell_type": "code",
   "execution_count": 20,
   "id": "4b5d36a5",
   "metadata": {},
   "outputs": [
    {
     "name": "stdout",
     "output_type": "stream",
     "text": [
      "My age is 56 and i have completed: my degree of MS with the name of gautham\n"
     ]
    }
   ],
   "source": [
    "name=\"gautham\"\n",
    "age=56\n",
    "degree=\"MS\"\n",
    "\n",
    "print(\"My age is {} and i have completed: my degree of {} with the name of {}\".format(age,degree,name))"
   ]
  },
  {
   "cell_type": "markdown",
   "id": "9bea77a9",
   "metadata": {},
   "source": [
    "# Control Flow"
   ]
  },
  {
   "cell_type": "code",
   "execution_count": 23,
   "id": "9add5023",
   "metadata": {},
   "outputs": [
    {
     "name": "stdout",
     "output_type": "stream",
     "text": [
      "Not eligible to vote\n"
     ]
    }
   ],
   "source": [
    "# if statement\n",
    "\n",
    "age=16\n",
    "if age >= 18:\n",
    "    print(\"You are eligible to vote\")\n",
    "else:\n",
    "    print(\"Not eligible to vote\")"
   ]
  },
  {
   "cell_type": "code",
   "execution_count": 25,
   "id": "aa9cd939",
   "metadata": {},
   "outputs": [
    {
     "name": "stdout",
     "output_type": "stream",
     "text": [
      "Enter you nameGautham\n",
      "Gautham\n"
     ]
    }
   ],
   "source": [
    "# input() -> take input from the users.\n",
    "name=input(\"Enter you name\")\n",
    "print(name)\n",
    "# default datatype of input is \"String\"."
   ]
  },
  {
   "cell_type": "code",
   "execution_count": 26,
   "id": "e6172c8d",
   "metadata": {},
   "outputs": [
    {
     "name": "stdout",
     "output_type": "stream",
     "text": [
      "Enter your age :24\n",
      "24\n",
      "<class 'str'>\n",
      "Enter your age :24\n",
      "24 <class 'int'>\n"
     ]
    }
   ],
   "source": [
    "age=input(\"Enter your age :\")\n",
    "print(age)\n",
    "print(type(age))\n",
    "ages=int(input(\"Enter your age :\"))\n",
    "print(ages,type(ages))"
   ]
  },
  {
   "cell_type": "code",
   "execution_count": 28,
   "id": "4de56f8a",
   "metadata": {},
   "outputs": [
    {
     "name": "stdout",
     "output_type": "stream",
     "text": [
      "enter youe age :46\n",
      "You are old\n"
     ]
    }
   ],
   "source": [
    "#Task\n",
    "age=int(input(\"enter youe age :\"))\n",
    "if age >=18 and age <=45:\n",
    "    print(\"You are young blood\")\n",
    "else:\n",
    "    print(\"You are old\")"
   ]
  },
  {
   "cell_type": "code",
   "execution_count": 51,
   "id": "0f532968",
   "metadata": {},
   "outputs": [
    {
     "name": "stdout",
     "output_type": "stream",
     "text": [
      "Enter money spent :4000\n",
      "You will get a trip to Goa\n",
      "3200.0\n"
     ]
    }
   ],
   "source": [
    "money=int(input(\"Enter money spent :\"))\n",
    "if money > 3000:\n",
    "    if money == 4000:\n",
    "        print(\"You will get a trip to Goa\")\n",
    "    money=money-money*0.20\n",
    "    print(money)\n",
    "elif money >= 2000 and money <= 3000:\n",
    "    if money == 2999:\n",
    "        print(\"You get an additional gift\")\n",
    "    money=money-money*0.30\n",
    "    print(money)\n",
    "elif money >=100 and money <= 2000:\n",
    "    money=money-money*0.40\n",
    "    print(money)\n",
    "\n",
    "    "
   ]
  },
  {
   "cell_type": "code",
   "execution_count": null,
   "id": "124404b1",
   "metadata": {},
   "outputs": [],
   "source": []
  }
 ],
 "metadata": {
  "kernelspec": {
   "display_name": "Python 3 (ipykernel)",
   "language": "python",
   "name": "python3"
  },
  "language_info": {
   "codemirror_mode": {
    "name": "ipython",
    "version": 3
   },
   "file_extension": ".py",
   "mimetype": "text/x-python",
   "name": "python",
   "nbconvert_exporter": "python",
   "pygments_lexer": "ipython3",
   "version": "3.11.5"
  }
 },
 "nbformat": 4,
 "nbformat_minor": 5
}
